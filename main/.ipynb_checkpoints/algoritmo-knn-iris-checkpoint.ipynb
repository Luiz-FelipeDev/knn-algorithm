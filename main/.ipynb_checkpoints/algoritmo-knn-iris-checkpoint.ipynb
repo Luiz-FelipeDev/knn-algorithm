{
 "cells": [
  {
   "cell_type": "code",
   "execution_count": 5,
   "id": "27a645d2-0723-4711-97a0-211e0d241027",
   "metadata": {},
   "outputs": [
    {
     "ename": "AttributeError",
     "evalue": "'function' object has no attribute 'label'",
     "output_type": "error",
     "traceback": [
      "\u001b[0;31m---------------------------------------------------------------------------\u001b[0m",
      "\u001b[0;31mAttributeError\u001b[0m                            Traceback (most recent call last)",
      "Cell \u001b[0;32mIn[5], line 29\u001b[0m\n\u001b[1;32m     27\u001b[0m points_by_specie: Dict[\u001b[38;5;28mstr\u001b[39m, List[Vector]] \u001b[38;5;241m=\u001b[39m defaultdict(\u001b[38;5;28mlist\u001b[39m)\n\u001b[1;32m     28\u001b[0m \u001b[38;5;28;01mfor\u001b[39;00m iris \u001b[38;5;129;01min\u001b[39;00m iris_data:\n\u001b[0;32m---> 29\u001b[0m     points_by_specie[\u001b[43miris\u001b[49m\u001b[38;5;241;43m.\u001b[39;49m\u001b[43mlabel\u001b[49m]\u001b[38;5;241m.\u001b[39mappend(iris\u001b[38;5;241m.\u001b[39mpoint)\n",
      "\u001b[0;31mAttributeError\u001b[0m: 'function' object has no attribute 'label'"
     ]
    }
   ],
   "source": [
    "from typing import List\n",
    "from collections import Counter\n",
    "from typing import Dict, NamedTuple\n",
    "from collections import defaultdict\n",
    "import csv\n",
    "from algebra_linear import Vector\n",
    "\n",
    "Vector = List[float]\n",
    "\n",
    "class LabeledPoint(NamedTuple):\n",
    "    point: Vector\n",
    "    label: str\n",
    "\n",
    "\n",
    "def parse_iris_row(row: List[str]) -> LabeledPoint:\n",
    "    \"\"\"\n",
    "        sepal_length, sepal_width, petal_length, petal_width, class\n",
    "    \"\"\"\n",
    "\n",
    "    mensuraments = [float(value) for value in row[:-1]]\n",
    "    label = [-1].split(\"-\")[-1]\n",
    "    return LabeledPoint(mensuraments, label)\n",
    "\n",
    "with open('iris-dataset/iris.data') as f:\n",
    "    reader = csv.reader(f)\n",
    "    iris_data = [parse_iris_row for row in reader]\n",
    "\n",
    "#Agrupamento dos dados por espécie\n",
    "points_by_species: Dict[str, List[Vector]] = defaultdict(list)\n",
    "for iris in iris_data:\n",
    "    points_by_species[iris.label].append(iris.point)\n",
    "\n"
   ]
  },
  {
   "cell_type": "code",
   "execution_count": null,
   "id": "c4a0427f-e32c-43c9-a527-fd7568f4a85a",
   "metadata": {},
   "outputs": [],
   "source": []
  },
  {
   "cell_type": "code",
   "execution_count": null,
   "id": "ecb097dc-b7ed-467c-9594-7c5d09f2dd2f",
   "metadata": {},
   "outputs": [],
   "source": []
  },
  {
   "cell_type": "code",
   "execution_count": null,
   "id": "4db023cc-3893-48a2-8665-943ce5fe691f",
   "metadata": {},
   "outputs": [],
   "source": []
  }
 ],
 "metadata": {
  "kernelspec": {
   "display_name": "Python 3 (ipykernel)",
   "language": "python",
   "name": "python3"
  },
  "language_info": {
   "codemirror_mode": {
    "name": "ipython",
    "version": 3
   },
   "file_extension": ".py",
   "mimetype": "text/x-python",
   "name": "python",
   "nbconvert_exporter": "python",
   "pygments_lexer": "ipython3",
   "version": "3.12.3"
  }
 },
 "nbformat": 4,
 "nbformat_minor": 5
}
