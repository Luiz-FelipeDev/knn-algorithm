{
 "cells": [
  {
   "cell_type": "code",
   "execution_count": 2,
   "id": "60a98e1b-1df4-46fd-b41b-a470225d7b16",
   "metadata": {},
   "outputs": [],
   "source": [
    "import random \n",
    "from typing import TypeVar, List, Tuple\n",
    "\n",
    "X = TypeVar('X')\n",
    "\n",
    "def split_data(data: List[X], prob: float) -> Tuple[List[X], List[X]]:\n",
    "    \"\"\"Separa os dados na proporção [prob, 1 - prob] para treinamento e teste \"\"\"\n",
    "    data = data[:] # copia dos dados\n",
    "    random.shuffle(data) # embaralha os dados na proporção\n",
    "    cut = int(len(data) * prob) \n",
    "    return data[:cut], data[cut:]\n",
    "\n",
    "data =  [n for n in range(1000)]\n",
    "train, test = split_data(data, 0.75)\n",
    "\n",
    "# \n",
    "assert len(train) == 750\n",
    "assert len(test) == 250 \n",
    "\n",
    "Y =  TypeVar('Y')\n",
    "\n",
    "def split_test_train()"
   ]
  },
  {
   "cell_type": "code",
   "execution_count": null,
   "id": "e4730cef-a48b-49dd-b128-abd4cf24b91a",
   "metadata": {},
   "outputs": [],
   "source": []
  }
 ],
 "metadata": {
  "kernelspec": {
   "display_name": "Python 3 (ipykernel)",
   "language": "python",
   "name": "python3"
  },
  "language_info": {
   "codemirror_mode": {
    "name": "ipython",
    "version": 3
   },
   "file_extension": ".py",
   "mimetype": "text/x-python",
   "name": "python",
   "nbconvert_exporter": "python",
   "pygments_lexer": "ipython3",
   "version": "3.12.3"
  }
 },
 "nbformat": 4,
 "nbformat_minor": 5
}
