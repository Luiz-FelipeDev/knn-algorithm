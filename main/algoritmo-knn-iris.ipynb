{
 "cells": [
  {
   "cell_type": "code",
   "execution_count": 2,
   "id": "27a645d2-0723-4711-97a0-211e0d241027",
   "metadata": {},
   "outputs": [
    {
     "ename": "NameError",
     "evalue": "name 'PontoRotulado' is not defined",
     "output_type": "error",
     "traceback": [
      "\u001b[0;31m---------------------------------------------------------------------------\u001b[0m",
      "\u001b[0;31mNameError\u001b[0m                                 Traceback (most recent call last)",
      "Cell \u001b[0;32mIn[2], line 8\u001b[0m\n\u001b[1;32m      2\u001b[0m \u001b[38;5;28;01mfrom\u001b[39;00m \u001b[38;5;21;01mtyping\u001b[39;00m \u001b[38;5;28;01mimport\u001b[39;00m List, Dict\n\u001b[1;32m      4\u001b[0m data \u001b[38;5;241m=\u001b[39m requests\u001b[38;5;241m.\u001b[39mget(\n\u001b[1;32m      5\u001b[0m \u001b[38;5;124m'\u001b[39m\u001b[38;5;124mhttps://archive.ics.uci.edu/ml/machine-learning-databases/iris/iris.data\u001b[39m\u001b[38;5;124m'\u001b[39m\n\u001b[1;32m      6\u001b[0m )\n\u001b[0;32m----> 8\u001b[0m \u001b[38;5;28;01mdef\u001b[39;00m \u001b[38;5;21manalisa_linhas_de_dados\u001b[39m(linha: List[\u001b[38;5;28mstr\u001b[39m]) \u001b[38;5;241m-\u001b[39m\u001b[38;5;241m>\u001b[39m \u001b[43mPontoRotulado\u001b[49m:\n\u001b[1;32m      9\u001b[0m \u001b[38;5;250m    \u001b[39m\u001b[38;5;124;03m\"\"\"\u001b[39;00m\n\u001b[1;32m     10\u001b[0m \u001b[38;5;124;03m        sepal_length, sepal_width, petal_length, petal_width, class\u001b[39;00m\n\u001b[1;32m     11\u001b[0m \u001b[38;5;124;03m    \"\"\"\u001b[39;00m\n\u001b[1;32m     13\u001b[0m     medicoes \u001b[38;5;241m=\u001b[39m [\u001b[38;5;28mfloat\u001b[39m(valor) \u001b[38;5;28;01mfor\u001b[39;00m valor \u001b[38;5;129;01min\u001b[39;00m linha[:\u001b[38;5;241m-\u001b[39m\u001b[38;5;241m1\u001b[39m]]\n",
      "\u001b[0;31mNameError\u001b[0m: name 'PontoRotulado' is not defined"
     ]
    }
   ],
   "source": [
    "import requests\n",
    "from typing import List, Dict\n",
    "\n",
    "data = requests.get(\n",
    "'https://archive.ics.uci.edu/ml/machine-learning-databases/iris/iris.data'\n",
    ")\n",
    "\n",
    "def analisa_linhas_de_dados(linha: List[str]) -> PontoRotulado:\n",
    "    \"\"\"\n",
    "        sepal_length, sepal_width, petal_length, petal_width, class\n",
    "    \"\"\"\n",
    "\n",
    "    medicoes = [float(valor) for valor in linha[:-1]]\n",
    "    classe = linha[-1].split(\"-\")[-1]\n",
    "    return PontoRotulado(medicoes, classe)\n",
    "\n",
    "with open(\"iris.data\") as f:\n",
    "    dados = csv.reader(f)\n",
    "    dados_iris = [analisa_linhas_de_dados(linha) for linha in dados]\n",
    "print(dados_iris)"
   ]
  },
  {
   "cell_type": "code",
   "execution_count": null,
   "id": "c4a0427f-e32c-43c9-a527-fd7568f4a85a",
   "metadata": {},
   "outputs": [],
   "source": []
  },
  {
   "cell_type": "code",
   "execution_count": null,
   "id": "ecb097dc-b7ed-467c-9594-7c5d09f2dd2f",
   "metadata": {},
   "outputs": [],
   "source": []
  }
 ],
 "metadata": {
  "kernelspec": {
   "display_name": "Python 3 (ipykernel)",
   "language": "python",
   "name": "python3"
  },
  "language_info": {
   "codemirror_mode": {
    "name": "ipython",
    "version": 3
   },
   "file_extension": ".py",
   "mimetype": "text/x-python",
   "name": "python",
   "nbconvert_exporter": "python",
   "pygments_lexer": "ipython3",
   "version": "3.12.3"
  }
 },
 "nbformat": 4,
 "nbformat_minor": 5
}
